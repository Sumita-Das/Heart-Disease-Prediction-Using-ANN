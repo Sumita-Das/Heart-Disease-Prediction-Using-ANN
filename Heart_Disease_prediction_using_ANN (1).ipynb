{
  "nbformat": 4,
  "nbformat_minor": 0,
  "metadata": {
    "colab": {
      "name": "Heart Disease prediction using ANN",
      "provenance": [],
      "collapsed_sections": []
    },
    "kernelspec": {
      "name": "python3",
      "display_name": "Python 3"
    },
    "language_info": {
      "name": "python"
    }
  },
  "cells": [
    {
      "cell_type": "code",
      "execution_count": null,
      "metadata": {
        "id": "59Xxj2HQi06F"
      },
      "outputs": [],
      "source": [
        "import tensorflow as tf\n",
        "import pandas as pd\n",
        "import numpy as np\n",
        "import matplotlib.pyplot as plt\n",
        "import keras\n",
        "from keras.models import Sequential\n",
        "from keras.layers import Dense\n",
        "from sklearn.metrics import confusion_matrix"
      ]
    },
    {
      "cell_type": "code",
      "source": [
        "from google.colab import files\n",
        "\n",
        "\n",
        "uploaded = files.upload()\n"
      ],
      "metadata": {
        "colab": {
          "resources": {
            "http://localhost:8080/nbextensions/google.colab/files.js": {
              "data": "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",
              "ok": true,
              "headers": [
                [
                  "content-type",
                  "application/javascript"
                ]
              ],
              "status": 200,
              "status_text": ""
            }
          },
          "base_uri": "https://localhost:8080/",
          "height": 74
        },
        "id": "RWZscpYSjQco",
        "outputId": "4af6cf8c-cb55-4d70-b3ee-62bbd14efd1f"
      },
      "execution_count": null,
      "outputs": [
        {
          "output_type": "display_data",
          "data": {
            "text/html": [
              "\n",
              "     <input type=\"file\" id=\"files-5dd88796-eae8-407e-9d37-1022eb031ea1\" name=\"files[]\" multiple disabled\n",
              "        style=\"border:none\" />\n",
              "     <output id=\"result-5dd88796-eae8-407e-9d37-1022eb031ea1\">\n",
              "      Upload widget is only available when the cell has been executed in the\n",
              "      current browser session. Please rerun this cell to enable.\n",
              "      </output>\n",
              "      <script src=\"/nbextensions/google.colab/files.js\"></script> "
            ],
            "text/plain": [
              "<IPython.core.display.HTML object>"
            ]
          },
          "metadata": {}
        },
        {
          "output_type": "stream",
          "name": "stdout",
          "text": [
            "Saving heart.csv to heart.csv\n"
          ]
        }
      ]
    },
    {
      "cell_type": "code",
      "source": [
        "import pandas as pd\n",
        "import io\n",
        "  \n",
        "df = pd.read_csv(io.BytesIO(uploaded['heart.csv']))\n",
        "print(df)"
      ],
      "metadata": {
        "colab": {
          "base_uri": "https://localhost:8080/"
        },
        "id": "Ur2cwAECjQf2",
        "outputId": "a2752283-5bf3-40c5-8f70-5d238f2e6b6b"
      },
      "execution_count": null,
      "outputs": [
        {
          "output_type": "stream",
          "name": "stdout",
          "text": [
            "     age  sex  cp  trestbps  chol  fbs  ...  exang  oldpeak  slope  ca  thal  target\n",
            "0     63    1   3       145   233    1  ...      0      2.3      0   0     1       1\n",
            "1     37    1   2       130   250    0  ...      0      3.5      0   0     2       1\n",
            "2     41    0   1       130   204    0  ...      0      1.4      2   0     2       1\n",
            "3     56    1   1       120   236    0  ...      0      0.8      2   0     2       1\n",
            "4     57    0   0       120   354    0  ...      1      0.6      2   0     2       1\n",
            "..   ...  ...  ..       ...   ...  ...  ...    ...      ...    ...  ..   ...     ...\n",
            "298   57    0   0       140   241    0  ...      1      0.2      1   0     3       0\n",
            "299   45    1   3       110   264    0  ...      0      1.2      1   0     3       0\n",
            "300   68    1   0       144   193    1  ...      0      3.4      1   2     3       0\n",
            "301   57    1   0       130   131    0  ...      1      1.2      1   1     3       0\n",
            "302   57    0   1       130   236    0  ...      0      0.0      1   1     2       0\n",
            "\n",
            "[303 rows x 14 columns]\n"
          ]
        }
      ]
    },
    {
      "cell_type": "code",
      "source": [
        "\n",
        "df.describe()"
      ],
      "metadata": {
        "colab": {
          "base_uri": "https://localhost:8080/",
          "height": 300
        },
        "id": "9KNrbptBjQjR",
        "outputId": "98d7e83f-6471-409c-9df8-86c864d70e2b"
      },
      "execution_count": null,
      "outputs": [
        {
          "output_type": "execute_result",
          "data": {
            "text/html": [
              "\n",
              "  <div id=\"df-0d0e2943-f1c9-4680-94a2-9ce612a213a3\">\n",
              "    <div class=\"colab-df-container\">\n",
              "      <div>\n",
              "<style scoped>\n",
              "    .dataframe tbody tr th:only-of-type {\n",
              "        vertical-align: middle;\n",
              "    }\n",
              "\n",
              "    .dataframe tbody tr th {\n",
              "        vertical-align: top;\n",
              "    }\n",
              "\n",
              "    .dataframe thead th {\n",
              "        text-align: right;\n",
              "    }\n",
              "</style>\n",
              "<table border=\"1\" class=\"dataframe\">\n",
              "  <thead>\n",
              "    <tr style=\"text-align: right;\">\n",
              "      <th></th>\n",
              "      <th>age</th>\n",
              "      <th>sex</th>\n",
              "      <th>cp</th>\n",
              "      <th>trestbps</th>\n",
              "      <th>chol</th>\n",
              "      <th>fbs</th>\n",
              "      <th>restecg</th>\n",
              "      <th>thalach</th>\n",
              "      <th>exang</th>\n",
              "      <th>oldpeak</th>\n",
              "      <th>slope</th>\n",
              "      <th>ca</th>\n",
              "      <th>thal</th>\n",
              "      <th>target</th>\n",
              "    </tr>\n",
              "  </thead>\n",
              "  <tbody>\n",
              "    <tr>\n",
              "      <th>count</th>\n",
              "      <td>303.000000</td>\n",
              "      <td>303.000000</td>\n",
              "      <td>303.000000</td>\n",
              "      <td>303.000000</td>\n",
              "      <td>303.000000</td>\n",
              "      <td>303.000000</td>\n",
              "      <td>303.000000</td>\n",
              "      <td>303.000000</td>\n",
              "      <td>303.000000</td>\n",
              "      <td>303.000000</td>\n",
              "      <td>303.000000</td>\n",
              "      <td>303.000000</td>\n",
              "      <td>303.000000</td>\n",
              "      <td>303.000000</td>\n",
              "    </tr>\n",
              "    <tr>\n",
              "      <th>mean</th>\n",
              "      <td>54.366337</td>\n",
              "      <td>0.683168</td>\n",
              "      <td>0.966997</td>\n",
              "      <td>131.623762</td>\n",
              "      <td>246.264026</td>\n",
              "      <td>0.148515</td>\n",
              "      <td>0.528053</td>\n",
              "      <td>149.646865</td>\n",
              "      <td>0.326733</td>\n",
              "      <td>1.039604</td>\n",
              "      <td>1.399340</td>\n",
              "      <td>0.729373</td>\n",
              "      <td>2.313531</td>\n",
              "      <td>0.544554</td>\n",
              "    </tr>\n",
              "    <tr>\n",
              "      <th>std</th>\n",
              "      <td>9.082101</td>\n",
              "      <td>0.466011</td>\n",
              "      <td>1.032052</td>\n",
              "      <td>17.538143</td>\n",
              "      <td>51.830751</td>\n",
              "      <td>0.356198</td>\n",
              "      <td>0.525860</td>\n",
              "      <td>22.905161</td>\n",
              "      <td>0.469794</td>\n",
              "      <td>1.161075</td>\n",
              "      <td>0.616226</td>\n",
              "      <td>1.022606</td>\n",
              "      <td>0.612277</td>\n",
              "      <td>0.498835</td>\n",
              "    </tr>\n",
              "    <tr>\n",
              "      <th>min</th>\n",
              "      <td>29.000000</td>\n",
              "      <td>0.000000</td>\n",
              "      <td>0.000000</td>\n",
              "      <td>94.000000</td>\n",
              "      <td>126.000000</td>\n",
              "      <td>0.000000</td>\n",
              "      <td>0.000000</td>\n",
              "      <td>71.000000</td>\n",
              "      <td>0.000000</td>\n",
              "      <td>0.000000</td>\n",
              "      <td>0.000000</td>\n",
              "      <td>0.000000</td>\n",
              "      <td>0.000000</td>\n",
              "      <td>0.000000</td>\n",
              "    </tr>\n",
              "    <tr>\n",
              "      <th>25%</th>\n",
              "      <td>47.500000</td>\n",
              "      <td>0.000000</td>\n",
              "      <td>0.000000</td>\n",
              "      <td>120.000000</td>\n",
              "      <td>211.000000</td>\n",
              "      <td>0.000000</td>\n",
              "      <td>0.000000</td>\n",
              "      <td>133.500000</td>\n",
              "      <td>0.000000</td>\n",
              "      <td>0.000000</td>\n",
              "      <td>1.000000</td>\n",
              "      <td>0.000000</td>\n",
              "      <td>2.000000</td>\n",
              "      <td>0.000000</td>\n",
              "    </tr>\n",
              "    <tr>\n",
              "      <th>50%</th>\n",
              "      <td>55.000000</td>\n",
              "      <td>1.000000</td>\n",
              "      <td>1.000000</td>\n",
              "      <td>130.000000</td>\n",
              "      <td>240.000000</td>\n",
              "      <td>0.000000</td>\n",
              "      <td>1.000000</td>\n",
              "      <td>153.000000</td>\n",
              "      <td>0.000000</td>\n",
              "      <td>0.800000</td>\n",
              "      <td>1.000000</td>\n",
              "      <td>0.000000</td>\n",
              "      <td>2.000000</td>\n",
              "      <td>1.000000</td>\n",
              "    </tr>\n",
              "    <tr>\n",
              "      <th>75%</th>\n",
              "      <td>61.000000</td>\n",
              "      <td>1.000000</td>\n",
              "      <td>2.000000</td>\n",
              "      <td>140.000000</td>\n",
              "      <td>274.500000</td>\n",
              "      <td>0.000000</td>\n",
              "      <td>1.000000</td>\n",
              "      <td>166.000000</td>\n",
              "      <td>1.000000</td>\n",
              "      <td>1.600000</td>\n",
              "      <td>2.000000</td>\n",
              "      <td>1.000000</td>\n",
              "      <td>3.000000</td>\n",
              "      <td>1.000000</td>\n",
              "    </tr>\n",
              "    <tr>\n",
              "      <th>max</th>\n",
              "      <td>77.000000</td>\n",
              "      <td>1.000000</td>\n",
              "      <td>3.000000</td>\n",
              "      <td>200.000000</td>\n",
              "      <td>564.000000</td>\n",
              "      <td>1.000000</td>\n",
              "      <td>2.000000</td>\n",
              "      <td>202.000000</td>\n",
              "      <td>1.000000</td>\n",
              "      <td>6.200000</td>\n",
              "      <td>2.000000</td>\n",
              "      <td>4.000000</td>\n",
              "      <td>3.000000</td>\n",
              "      <td>1.000000</td>\n",
              "    </tr>\n",
              "  </tbody>\n",
              "</table>\n",
              "</div>\n",
              "      <button class=\"colab-df-convert\" onclick=\"convertToInteractive('df-0d0e2943-f1c9-4680-94a2-9ce612a213a3')\"\n",
              "              title=\"Convert this dataframe to an interactive table.\"\n",
              "              style=\"display:none;\">\n",
              "        \n",
              "  <svg xmlns=\"http://www.w3.org/2000/svg\" height=\"24px\"viewBox=\"0 0 24 24\"\n",
              "       width=\"24px\">\n",
              "    <path d=\"M0 0h24v24H0V0z\" fill=\"none\"/>\n",
              "    <path d=\"M18.56 5.44l.94 2.06.94-2.06 2.06-.94-2.06-.94-.94-2.06-.94 2.06-2.06.94zm-11 1L8.5 8.5l.94-2.06 2.06-.94-2.06-.94L8.5 2.5l-.94 2.06-2.06.94zm10 10l.94 2.06.94-2.06 2.06-.94-2.06-.94-.94-2.06-.94 2.06-2.06.94z\"/><path d=\"M17.41 7.96l-1.37-1.37c-.4-.4-.92-.59-1.43-.59-.52 0-1.04.2-1.43.59L10.3 9.45l-7.72 7.72c-.78.78-.78 2.05 0 2.83L4 21.41c.39.39.9.59 1.41.59.51 0 1.02-.2 1.41-.59l7.78-7.78 2.81-2.81c.8-.78.8-2.07 0-2.86zM5.41 20L4 18.59l7.72-7.72 1.47 1.35L5.41 20z\"/>\n",
              "  </svg>\n",
              "      </button>\n",
              "      \n",
              "  <style>\n",
              "    .colab-df-container {\n",
              "      display:flex;\n",
              "      flex-wrap:wrap;\n",
              "      gap: 12px;\n",
              "    }\n",
              "\n",
              "    .colab-df-convert {\n",
              "      background-color: #E8F0FE;\n",
              "      border: none;\n",
              "      border-radius: 50%;\n",
              "      cursor: pointer;\n",
              "      display: none;\n",
              "      fill: #1967D2;\n",
              "      height: 32px;\n",
              "      padding: 0 0 0 0;\n",
              "      width: 32px;\n",
              "    }\n",
              "\n",
              "    .colab-df-convert:hover {\n",
              "      background-color: #E2EBFA;\n",
              "      box-shadow: 0px 1px 2px rgba(60, 64, 67, 0.3), 0px 1px 3px 1px rgba(60, 64, 67, 0.15);\n",
              "      fill: #174EA6;\n",
              "    }\n",
              "\n",
              "    [theme=dark] .colab-df-convert {\n",
              "      background-color: #3B4455;\n",
              "      fill: #D2E3FC;\n",
              "    }\n",
              "\n",
              "    [theme=dark] .colab-df-convert:hover {\n",
              "      background-color: #434B5C;\n",
              "      box-shadow: 0px 1px 3px 1px rgba(0, 0, 0, 0.15);\n",
              "      filter: drop-shadow(0px 1px 2px rgba(0, 0, 0, 0.3));\n",
              "      fill: #FFFFFF;\n",
              "    }\n",
              "  </style>\n",
              "\n",
              "      <script>\n",
              "        const buttonEl =\n",
              "          document.querySelector('#df-0d0e2943-f1c9-4680-94a2-9ce612a213a3 button.colab-df-convert');\n",
              "        buttonEl.style.display =\n",
              "          google.colab.kernel.accessAllowed ? 'block' : 'none';\n",
              "\n",
              "        async function convertToInteractive(key) {\n",
              "          const element = document.querySelector('#df-0d0e2943-f1c9-4680-94a2-9ce612a213a3');\n",
              "          const dataTable =\n",
              "            await google.colab.kernel.invokeFunction('convertToInteractive',\n",
              "                                                     [key], {});\n",
              "          if (!dataTable) return;\n",
              "\n",
              "          const docLinkHtml = 'Like what you see? Visit the ' +\n",
              "            '<a target=\"_blank\" href=https://colab.research.google.com/notebooks/data_table.ipynb>data table notebook</a>'\n",
              "            + ' to learn more about interactive tables.';\n",
              "          element.innerHTML = '';\n",
              "          dataTable['output_type'] = 'display_data';\n",
              "          await google.colab.output.renderOutput(dataTable, element);\n",
              "          const docLink = document.createElement('div');\n",
              "          docLink.innerHTML = docLinkHtml;\n",
              "          element.appendChild(docLink);\n",
              "        }\n",
              "      </script>\n",
              "    </div>\n",
              "  </div>\n",
              "  "
            ],
            "text/plain": [
              "              age         sex          cp  ...          ca        thal      target\n",
              "count  303.000000  303.000000  303.000000  ...  303.000000  303.000000  303.000000\n",
              "mean    54.366337    0.683168    0.966997  ...    0.729373    2.313531    0.544554\n",
              "std      9.082101    0.466011    1.032052  ...    1.022606    0.612277    0.498835\n",
              "min     29.000000    0.000000    0.000000  ...    0.000000    0.000000    0.000000\n",
              "25%     47.500000    0.000000    0.000000  ...    0.000000    2.000000    0.000000\n",
              "50%     55.000000    1.000000    1.000000  ...    0.000000    2.000000    1.000000\n",
              "75%     61.000000    1.000000    2.000000  ...    1.000000    3.000000    1.000000\n",
              "max     77.000000    1.000000    3.000000  ...    4.000000    3.000000    1.000000\n",
              "\n",
              "[8 rows x 14 columns]"
            ]
          },
          "metadata": {},
          "execution_count": 5
        }
      ]
    },
    {
      "cell_type": "code",
      "source": [
        "\n",
        "df.isnull().any()"
      ],
      "metadata": {
        "colab": {
          "base_uri": "https://localhost:8080/"
        },
        "id": "8Ht-KDILjQm4",
        "outputId": "e33e3c67-6b4d-405b-e340-5c4843821a17"
      },
      "execution_count": null,
      "outputs": [
        {
          "output_type": "execute_result",
          "data": {
            "text/plain": [
              "age         False\n",
              "sex         False\n",
              "cp          False\n",
              "trestbps    False\n",
              "chol        False\n",
              "fbs         False\n",
              "restecg     False\n",
              "thalach     False\n",
              "exang       False\n",
              "oldpeak     False\n",
              "slope       False\n",
              "ca          False\n",
              "thal        False\n",
              "target      False\n",
              "dtype: bool"
            ]
          },
          "metadata": {},
          "execution_count": 6
        }
      ]
    },
    {
      "cell_type": "code",
      "source": [
        "X = np.array(df.drop(['target'], 1))\n",
        "y = np.array(df['target'])"
      ],
      "metadata": {
        "id": "s4GrVX-1kxno"
      },
      "execution_count": null,
      "outputs": []
    },
    {
      "cell_type": "code",
      "source": [
        "X[0]"
      ],
      "metadata": {
        "colab": {
          "base_uri": "https://localhost:8080/"
        },
        "id": "YmIX1eJukxrK",
        "outputId": "80c7943f-5fd3-4b02-f9ed-59eefd0118b3"
      },
      "execution_count": null,
      "outputs": [
        {
          "output_type": "execute_result",
          "data": {
            "text/plain": [
              "array([ 63. ,   1. ,   3. , 145. , 233. ,   1. ,   0. , 150. ,   0. ,\n",
              "         2.3,   0. ,   0. ,   1. ])"
            ]
          },
          "metadata": {},
          "execution_count": 12
        }
      ]
    },
    {
      "cell_type": "code",
      "source": [
        "mean = X.mean(axis=0)\n",
        "X -= mean\n",
        "std = X.std(axis=0)\n",
        "X /= std"
      ],
      "metadata": {
        "id": "3cmo_sy9kxvw"
      },
      "execution_count": null,
      "outputs": []
    },
    {
      "cell_type": "code",
      "source": [
        "X[0]"
      ],
      "metadata": {
        "colab": {
          "base_uri": "https://localhost:8080/"
        },
        "id": "w6yvxd7Hkxy4",
        "outputId": "fdfb2aa2-0360-45fa-8c66-a9400b122a06"
      },
      "execution_count": null,
      "outputs": [
        {
          "output_type": "execute_result",
          "data": {
            "text/plain": [
              "array([ 0.9521966 ,  0.68100522,  1.97312292,  0.76395577, -0.25633371,\n",
              "        2.394438  , -1.00583187,  0.01544279, -0.69663055,  1.08733806,\n",
              "       -2.27457861, -0.71442887, -2.14887271])"
            ]
          },
          "metadata": {},
          "execution_count": 15
        }
      ]
    },
    {
      "cell_type": "code",
      "source": [
        "from sklearn import model_selection\n",
        "\n",
        "X_train, X_test, y_train, y_test = model_selection.train_test_split(X, y, stratify=y, random_state=42, test_size = 0.2)"
      ],
      "metadata": {
        "id": "owPkLwaFkx2L"
      },
      "execution_count": null,
      "outputs": []
    },
    {
      "cell_type": "code",
      "source": [
        "from keras.utils.np_utils import to_categorical\n",
        "\n",
        "Y_train = to_categorical(y_train, num_classes=None)\n",
        "Y_test = to_categorical(y_test, num_classes=None)\n",
        "print (Y_train.shape)\n",
        "print (Y_train[:10])"
      ],
      "metadata": {
        "colab": {
          "base_uri": "https://localhost:8080/"
        },
        "id": "FFvmmPSQmFs1",
        "outputId": "9a14bacf-9975-494f-ea45-519e28522e96"
      },
      "execution_count": null,
      "outputs": [
        {
          "output_type": "stream",
          "name": "stdout",
          "text": [
            "(242, 2)\n",
            "[[0. 1.]\n",
            " [1. 0.]\n",
            " [1. 0.]\n",
            " [1. 0.]\n",
            " [0. 1.]\n",
            " [0. 1.]\n",
            " [0. 1.]\n",
            " [0. 1.]\n",
            " [1. 0.]\n",
            " [0. 1.]]\n"
          ]
        }
      ]
    },
    {
      "cell_type": "code",
      "source": [
        "X_train[0]"
      ],
      "metadata": {
        "colab": {
          "base_uri": "https://localhost:8080/"
        },
        "id": "yRWp20iomJ2k",
        "outputId": "d36daa6c-5ead-413c-d04e-2bb23defed2d"
      },
      "execution_count": null,
      "outputs": [
        {
          "output_type": "execute_result",
          "data": {
            "text/plain": [
              "array([ 1.61392956, -1.46841752,  1.97312292,  0.47839125, -0.14038081,\n",
              "       -0.41763453,  0.89896224,  0.05917329, -0.69663055,  0.65599028,\n",
              "        0.97635214,  1.24459328, -0.51292188])"
            ]
          },
          "metadata": {},
          "execution_count": 18
        }
      ]
    },
    {
      "cell_type": "code",
      "source": [
        "from sklearn.preprocessing import StandardScaler\n",
        "sc = StandardScaler()\n",
        "X_train = sc.fit_transform(X_train)\n",
        "X_test = sc.transform(X_test)"
      ],
      "metadata": {
        "id": "47mNcbIMmJ9w"
      },
      "execution_count": null,
      "outputs": []
    },
    {
      "cell_type": "code",
      "source": [
        "classifier = Sequential()\n",
        "classifier.add(Dense(activation = \"relu\", input_dim = 13,\n",
        "\t\t\t\t\tunits = 8, kernel_initializer = \"uniform\"))\n",
        "classifier.add(Dense(activation = \"relu\", units = 14,\n",
        "\t\t\t\t\tkernel_initializer = \"uniform\"))\n",
        "classifier.add(Dense(activation = \"sigmoid\", units = 1,\n",
        "\t\t\t\t\tkernel_initializer = \"uniform\"))\n",
        "classifier.compile(optimizer = 'adam' , loss = 'binary_crossentropy',\n",
        "\t\t\t\tmetrics = ['accuracy'] )\n"
      ],
      "metadata": {
        "id": "LPDyS5n6mKO0"
      },
      "execution_count": null,
      "outputs": []
    },
    {
      "cell_type": "code",
      "source": [
        "classifier.fit(X_train , y_train , batch_size = 8 ,epochs = 100  )"
      ],
      "metadata": {
        "colab": {
          "base_uri": "https://localhost:8080/"
        },
        "id": "muBzgh5FmKR_",
        "outputId": "998095ab-bfa5-4cd4-fa36-da58ddd0ea0b"
      },
      "execution_count": null,
      "outputs": [
        {
          "output_type": "stream",
          "name": "stdout",
          "text": [
            "Epoch 1/100\n",
            "31/31 [==============================] - 1s 2ms/step - loss: 0.6925 - accuracy: 0.6860\n",
            "Epoch 2/100\n",
            "31/31 [==============================] - 0s 2ms/step - loss: 0.6868 - accuracy: 0.8017\n",
            "Epoch 3/100\n",
            "31/31 [==============================] - 0s 3ms/step - loss: 0.6638 - accuracy: 0.8471\n",
            "Epoch 4/100\n",
            "31/31 [==============================] - 0s 1ms/step - loss: 0.6091 - accuracy: 0.8471\n",
            "Epoch 5/100\n",
            "31/31 [==============================] - 0s 1ms/step - loss: 0.5265 - accuracy: 0.8512\n",
            "Epoch 6/100\n",
            "31/31 [==============================] - 0s 2ms/step - loss: 0.4545 - accuracy: 0.8512\n",
            "Epoch 7/100\n",
            "31/31 [==============================] - 0s 2ms/step - loss: 0.4034 - accuracy: 0.8554\n",
            "Epoch 8/100\n",
            "31/31 [==============================] - 0s 2ms/step - loss: 0.3751 - accuracy: 0.8595\n",
            "Epoch 9/100\n",
            "31/31 [==============================] - 0s 2ms/step - loss: 0.3598 - accuracy: 0.8595\n",
            "Epoch 10/100\n",
            "31/31 [==============================] - 0s 2ms/step - loss: 0.3500 - accuracy: 0.8678\n",
            "Epoch 11/100\n",
            "31/31 [==============================] - 0s 2ms/step - loss: 0.3462 - accuracy: 0.8636\n",
            "Epoch 12/100\n",
            "31/31 [==============================] - 0s 2ms/step - loss: 0.3415 - accuracy: 0.8678\n",
            "Epoch 13/100\n",
            "31/31 [==============================] - 0s 2ms/step - loss: 0.3394 - accuracy: 0.8678\n",
            "Epoch 14/100\n",
            "31/31 [==============================] - 0s 2ms/step - loss: 0.3356 - accuracy: 0.8719\n",
            "Epoch 15/100\n",
            "31/31 [==============================] - 0s 2ms/step - loss: 0.3335 - accuracy: 0.8719\n",
            "Epoch 16/100\n",
            "31/31 [==============================] - 0s 3ms/step - loss: 0.3321 - accuracy: 0.8719\n",
            "Epoch 17/100\n",
            "31/31 [==============================] - 0s 2ms/step - loss: 0.3303 - accuracy: 0.8760\n",
            "Epoch 18/100\n",
            "31/31 [==============================] - 0s 2ms/step - loss: 0.3278 - accuracy: 0.8760\n",
            "Epoch 19/100\n",
            "31/31 [==============================] - 0s 2ms/step - loss: 0.3256 - accuracy: 0.8802\n",
            "Epoch 20/100\n",
            "31/31 [==============================] - 0s 2ms/step - loss: 0.3247 - accuracy: 0.8802\n",
            "Epoch 21/100\n",
            "31/31 [==============================] - 0s 2ms/step - loss: 0.3236 - accuracy: 0.8802\n",
            "Epoch 22/100\n",
            "31/31 [==============================] - 0s 2ms/step - loss: 0.3220 - accuracy: 0.8802\n",
            "Epoch 23/100\n",
            "31/31 [==============================] - 0s 2ms/step - loss: 0.3208 - accuracy: 0.8802\n",
            "Epoch 24/100\n",
            "31/31 [==============================] - 0s 2ms/step - loss: 0.3195 - accuracy: 0.8802\n",
            "Epoch 25/100\n",
            "31/31 [==============================] - 0s 2ms/step - loss: 0.3186 - accuracy: 0.8760\n",
            "Epoch 26/100\n",
            "31/31 [==============================] - 0s 2ms/step - loss: 0.3175 - accuracy: 0.8843\n",
            "Epoch 27/100\n",
            "31/31 [==============================] - 0s 2ms/step - loss: 0.3161 - accuracy: 0.8843\n",
            "Epoch 28/100\n",
            "31/31 [==============================] - 0s 2ms/step - loss: 0.3158 - accuracy: 0.8760\n",
            "Epoch 29/100\n",
            "31/31 [==============================] - 0s 2ms/step - loss: 0.3145 - accuracy: 0.8802\n",
            "Epoch 30/100\n",
            "31/31 [==============================] - 0s 2ms/step - loss: 0.3120 - accuracy: 0.8802\n",
            "Epoch 31/100\n",
            "31/31 [==============================] - 0s 2ms/step - loss: 0.3123 - accuracy: 0.8802\n",
            "Epoch 32/100\n",
            "31/31 [==============================] - 0s 2ms/step - loss: 0.3103 - accuracy: 0.8802\n",
            "Epoch 33/100\n",
            "31/31 [==============================] - 0s 2ms/step - loss: 0.3095 - accuracy: 0.8802\n",
            "Epoch 34/100\n",
            "31/31 [==============================] - 0s 2ms/step - loss: 0.3086 - accuracy: 0.8802\n",
            "Epoch 35/100\n",
            "31/31 [==============================] - 0s 2ms/step - loss: 0.3079 - accuracy: 0.8802\n",
            "Epoch 36/100\n",
            "31/31 [==============================] - 0s 2ms/step - loss: 0.3063 - accuracy: 0.8802\n",
            "Epoch 37/100\n",
            "31/31 [==============================] - 0s 2ms/step - loss: 0.3061 - accuracy: 0.8843\n",
            "Epoch 38/100\n",
            "31/31 [==============================] - 0s 2ms/step - loss: 0.3050 - accuracy: 0.8884\n",
            "Epoch 39/100\n",
            "31/31 [==============================] - 0s 2ms/step - loss: 0.3049 - accuracy: 0.8843\n",
            "Epoch 40/100\n",
            "31/31 [==============================] - 0s 2ms/step - loss: 0.3036 - accuracy: 0.8926\n",
            "Epoch 41/100\n",
            "31/31 [==============================] - 0s 1ms/step - loss: 0.3028 - accuracy: 0.8884\n",
            "Epoch 42/100\n",
            "31/31 [==============================] - 0s 2ms/step - loss: 0.3014 - accuracy: 0.8843\n",
            "Epoch 43/100\n",
            "31/31 [==============================] - 0s 2ms/step - loss: 0.3011 - accuracy: 0.8802\n",
            "Epoch 44/100\n",
            "31/31 [==============================] - 0s 2ms/step - loss: 0.3003 - accuracy: 0.8843\n",
            "Epoch 45/100\n",
            "31/31 [==============================] - 0s 2ms/step - loss: 0.2992 - accuracy: 0.8843\n",
            "Epoch 46/100\n",
            "31/31 [==============================] - 0s 1ms/step - loss: 0.2987 - accuracy: 0.8843\n",
            "Epoch 47/100\n",
            "31/31 [==============================] - 0s 2ms/step - loss: 0.2965 - accuracy: 0.8802\n",
            "Epoch 48/100\n",
            "31/31 [==============================] - 0s 2ms/step - loss: 0.2957 - accuracy: 0.8843\n",
            "Epoch 49/100\n",
            "31/31 [==============================] - 0s 1ms/step - loss: 0.2950 - accuracy: 0.8843\n",
            "Epoch 50/100\n",
            "31/31 [==============================] - 0s 2ms/step - loss: 0.2951 - accuracy: 0.8760\n",
            "Epoch 51/100\n",
            "31/31 [==============================] - 0s 2ms/step - loss: 0.2943 - accuracy: 0.8760\n",
            "Epoch 52/100\n",
            "31/31 [==============================] - 0s 2ms/step - loss: 0.2930 - accuracy: 0.8802\n",
            "Epoch 53/100\n",
            "31/31 [==============================] - 0s 2ms/step - loss: 0.2920 - accuracy: 0.8843\n",
            "Epoch 54/100\n",
            "31/31 [==============================] - 0s 2ms/step - loss: 0.2924 - accuracy: 0.8802\n",
            "Epoch 55/100\n",
            "31/31 [==============================] - 0s 2ms/step - loss: 0.2895 - accuracy: 0.8802\n",
            "Epoch 56/100\n",
            "31/31 [==============================] - 0s 2ms/step - loss: 0.2892 - accuracy: 0.8884\n",
            "Epoch 57/100\n",
            "31/31 [==============================] - 0s 2ms/step - loss: 0.2885 - accuracy: 0.8884\n",
            "Epoch 58/100\n",
            "31/31 [==============================] - 0s 2ms/step - loss: 0.2871 - accuracy: 0.8926\n",
            "Epoch 59/100\n",
            "31/31 [==============================] - 0s 2ms/step - loss: 0.2857 - accuracy: 0.8926\n",
            "Epoch 60/100\n",
            "31/31 [==============================] - 0s 2ms/step - loss: 0.2863 - accuracy: 0.8843\n",
            "Epoch 61/100\n",
            "31/31 [==============================] - 0s 2ms/step - loss: 0.2840 - accuracy: 0.8843\n",
            "Epoch 62/100\n",
            "31/31 [==============================] - 0s 1ms/step - loss: 0.2837 - accuracy: 0.8760\n",
            "Epoch 63/100\n",
            "31/31 [==============================] - 0s 2ms/step - loss: 0.2826 - accuracy: 0.8802\n",
            "Epoch 64/100\n",
            "31/31 [==============================] - 0s 2ms/step - loss: 0.2819 - accuracy: 0.8802\n",
            "Epoch 65/100\n",
            "31/31 [==============================] - 0s 2ms/step - loss: 0.2804 - accuracy: 0.8884\n",
            "Epoch 66/100\n",
            "31/31 [==============================] - 0s 2ms/step - loss: 0.2792 - accuracy: 0.8926\n",
            "Epoch 67/100\n",
            "31/31 [==============================] - 0s 2ms/step - loss: 0.2791 - accuracy: 0.8802\n",
            "Epoch 68/100\n",
            "31/31 [==============================] - 0s 2ms/step - loss: 0.2775 - accuracy: 0.8843\n",
            "Epoch 69/100\n",
            "31/31 [==============================] - 0s 2ms/step - loss: 0.2780 - accuracy: 0.8802\n",
            "Epoch 70/100\n",
            "31/31 [==============================] - 0s 2ms/step - loss: 0.2770 - accuracy: 0.8843\n",
            "Epoch 71/100\n",
            "31/31 [==============================] - 0s 2ms/step - loss: 0.2743 - accuracy: 0.8884\n",
            "Epoch 72/100\n",
            "31/31 [==============================] - 0s 2ms/step - loss: 0.2744 - accuracy: 0.8926\n",
            "Epoch 73/100\n",
            "31/31 [==============================] - 0s 2ms/step - loss: 0.2763 - accuracy: 0.8843\n",
            "Epoch 74/100\n",
            "31/31 [==============================] - 0s 2ms/step - loss: 0.2729 - accuracy: 0.8967\n",
            "Epoch 75/100\n",
            "31/31 [==============================] - 0s 2ms/step - loss: 0.2707 - accuracy: 0.8926\n",
            "Epoch 76/100\n",
            "31/31 [==============================] - 0s 2ms/step - loss: 0.2690 - accuracy: 0.8967\n",
            "Epoch 77/100\n",
            "31/31 [==============================] - 0s 2ms/step - loss: 0.2689 - accuracy: 0.9008\n",
            "Epoch 78/100\n",
            "31/31 [==============================] - 0s 2ms/step - loss: 0.2673 - accuracy: 0.8926\n",
            "Epoch 79/100\n",
            "31/31 [==============================] - 0s 2ms/step - loss: 0.2669 - accuracy: 0.9091\n",
            "Epoch 80/100\n",
            "31/31 [==============================] - 0s 2ms/step - loss: 0.2668 - accuracy: 0.9091\n",
            "Epoch 81/100\n",
            "31/31 [==============================] - 0s 2ms/step - loss: 0.2637 - accuracy: 0.9050\n",
            "Epoch 82/100\n",
            "31/31 [==============================] - 0s 1ms/step - loss: 0.2635 - accuracy: 0.9091\n",
            "Epoch 83/100\n",
            "31/31 [==============================] - 0s 2ms/step - loss: 0.2621 - accuracy: 0.9132\n",
            "Epoch 84/100\n",
            "31/31 [==============================] - 0s 2ms/step - loss: 0.2633 - accuracy: 0.9050\n",
            "Epoch 85/100\n",
            "31/31 [==============================] - 0s 2ms/step - loss: 0.2599 - accuracy: 0.9091\n",
            "Epoch 86/100\n",
            "31/31 [==============================] - 0s 2ms/step - loss: 0.2606 - accuracy: 0.9091\n",
            "Epoch 87/100\n",
            "31/31 [==============================] - 0s 2ms/step - loss: 0.2583 - accuracy: 0.9091\n",
            "Epoch 88/100\n",
            "31/31 [==============================] - 0s 2ms/step - loss: 0.2581 - accuracy: 0.9132\n",
            "Epoch 89/100\n",
            "31/31 [==============================] - 0s 2ms/step - loss: 0.2573 - accuracy: 0.9174\n",
            "Epoch 90/100\n",
            "31/31 [==============================] - 0s 2ms/step - loss: 0.2547 - accuracy: 0.9091\n",
            "Epoch 91/100\n",
            "31/31 [==============================] - 0s 2ms/step - loss: 0.2550 - accuracy: 0.9132\n",
            "Epoch 92/100\n",
            "31/31 [==============================] - 0s 2ms/step - loss: 0.2539 - accuracy: 0.9091\n",
            "Epoch 93/100\n",
            "31/31 [==============================] - 0s 2ms/step - loss: 0.2511 - accuracy: 0.9132\n",
            "Epoch 94/100\n",
            "31/31 [==============================] - 0s 2ms/step - loss: 0.2510 - accuracy: 0.9091\n",
            "Epoch 95/100\n",
            "31/31 [==============================] - 0s 2ms/step - loss: 0.2498 - accuracy: 0.9132\n",
            "Epoch 96/100\n",
            "31/31 [==============================] - 0s 2ms/step - loss: 0.2480 - accuracy: 0.9091\n",
            "Epoch 97/100\n",
            "31/31 [==============================] - 0s 2ms/step - loss: 0.2469 - accuracy: 0.9091\n",
            "Epoch 98/100\n",
            "31/31 [==============================] - 0s 2ms/step - loss: 0.2456 - accuracy: 0.9132\n",
            "Epoch 99/100\n",
            "31/31 [==============================] - 0s 2ms/step - loss: 0.2442 - accuracy: 0.9132\n",
            "Epoch 100/100\n",
            "31/31 [==============================] - 0s 2ms/step - loss: 0.2438 - accuracy: 0.9174\n"
          ]
        },
        {
          "output_type": "execute_result",
          "data": {
            "text/plain": [
              "<keras.callbacks.History at 0x7f09041073d0>"
            ]
          },
          "metadata": {},
          "execution_count": 27
        }
      ]
    },
    {
      "cell_type": "code",
      "source": [
        "y_pred = classifier.predict(X_test)\n",
        "y_pred = (y_pred > 0.5)"
      ],
      "metadata": {
        "id": "aD3bxGQ2mKVG"
      },
      "execution_count": null,
      "outputs": []
    },
    {
      "cell_type": "code",
      "source": [
        "cm = confusion_matrix(y_test,y_pred)\n",
        "cm"
      ],
      "metadata": {
        "colab": {
          "base_uri": "https://localhost:8080/"
        },
        "id": "s2xjw1MHmKYY",
        "outputId": "b218d9c8-856a-4fbb-a0ac-06ca46b36ea8"
      },
      "execution_count": null,
      "outputs": [
        {
          "output_type": "execute_result",
          "data": {
            "text/plain": [
              "array([[19,  9],\n",
              "       [ 3, 30]])"
            ]
          },
          "metadata": {},
          "execution_count": 29
        }
      ]
    },
    {
      "cell_type": "code",
      "source": [
        "accuracy = (cm[0][0]+cm[1][1])/(cm[0][1] + cm[1][0] +cm[0][0] +cm[1][1])\n",
        "print(accuracy*100)\n"
      ],
      "metadata": {
        "colab": {
          "base_uri": "https://localhost:8080/"
        },
        "id": "riNR7yVMmKb3",
        "outputId": "269f23a1-aea4-4f10-edca-aaa19ab99780"
      },
      "execution_count": null,
      "outputs": [
        {
          "output_type": "stream",
          "name": "stdout",
          "text": [
            "80.32786885245902\n"
          ]
        }
      ]
    },
    {
      "cell_type": "code",
      "source": [
        ""
      ],
      "metadata": {
        "id": "_6wTDN9fmKfN"
      },
      "execution_count": null,
      "outputs": []
    },
    {
      "cell_type": "code",
      "source": [
        ""
      ],
      "metadata": {
        "id": "SA5fETkBmKmR"
      },
      "execution_count": null,
      "outputs": []
    },
    {
      "cell_type": "code",
      "source": [
        ""
      ],
      "metadata": {
        "id": "4R7eGI7umFwB"
      },
      "execution_count": null,
      "outputs": []
    },
    {
      "cell_type": "code",
      "source": [
        ""
      ],
      "metadata": {
        "id": "HKHK7ozfmFyy"
      },
      "execution_count": null,
      "outputs": []
    },
    {
      "cell_type": "code",
      "source": [
        ""
      ],
      "metadata": {
        "id": "JuuomVvumF2c"
      },
      "execution_count": null,
      "outputs": []
    },
    {
      "cell_type": "code",
      "source": [
        ""
      ],
      "metadata": {
        "id": "A6KQn3bgmF65"
      },
      "execution_count": null,
      "outputs": []
    },
    {
      "cell_type": "code",
      "source": [
        ""
      ],
      "metadata": {
        "id": "PbBM93AkmF-f"
      },
      "execution_count": null,
      "outputs": []
    },
    {
      "cell_type": "code",
      "source": [
        ""
      ],
      "metadata": {
        "id": "grsTqWbtmGUl"
      },
      "execution_count": null,
      "outputs": []
    },
    {
      "cell_type": "code",
      "source": [
        ""
      ],
      "metadata": {
        "id": "qHvwlpgDmGay"
      },
      "execution_count": null,
      "outputs": []
    },
    {
      "cell_type": "code",
      "source": [
        ""
      ],
      "metadata": {
        "id": "bS__c0SxmGpo"
      },
      "execution_count": null,
      "outputs": []
    }
  ]
}